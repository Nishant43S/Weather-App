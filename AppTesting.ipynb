{
 "cells": [
  {
   "cell_type": "code",
   "execution_count": null,
   "id": "f8848b64",
   "metadata": {},
   "outputs": [],
   "source": [
    "import requests\n",
    "from bs4 import BeautifulSoup\n",
    "try:\n",
    "    WeatherUrl = requests.get(f\"https://www.timeanddate.com/weather/india/indore\")\n",
    "    print(\"responce:\",WeatherUrl)\n",
    "    weather = BeautifulSoup(WeatherUrl.content,\"html.parser\")\n",
    "    \n",
    "    weatherData = weather.prettify()\n",
    "    HtmlFile = open(\"wdata.txt\",\"w\")\n",
    "    print(weatherData,)\n",
    "    HtmlFile.close()\n",
    "except:\n",
    "    print(\"error...\")"
   ]
  },
  {
   "cell_type": "code",
   "execution_count": null,
   "id": "1dba3a67",
   "metadata": {},
   "outputs": [],
   "source": [
    "import requests\n",
    "from bs4 import BeautifulSoup\n",
    "\n",
    "url = requests.get(\"https://www.wunderground.com/weather/in/utterpradesh\")\n",
    "\n",
    "wet = BeautifulSoup(url.content,\"html.parser\")\n",
    "x = wet.find_all(\"span\",class_=\"temp\")\n",
    "print(x[0].text)"
   ]
  },
  {
   "cell_type": "code",
   "execution_count": null,
   "id": "fd42e4cd",
   "metadata": {},
   "outputs": [],
   "source": [
    "import requests\n",
    "from bs4 import BeautifulSoup\n",
    "import asyncio\n",
    "\n",
    "try:\n",
    "    async def WeatherUrl(CityName):  ######  generating url data\n",
    "        weatherLink = requests.get(f\"https://www.wunderground.com/weather/in/{CityName}\")\n",
    "        await asyncio.sleep(1)\n",
    "\n",
    "        global Weather\n",
    "        Weather = BeautifulSoup(weatherLink.content,\"html.parser\") ### weather variable\n",
    "\n",
    "    City = input(\"Enter City::\").capitalize()\n",
    "    asyncio.run(\n",
    "        WeatherUrl(\n",
    "            CityName=City\n",
    "        )\n",
    "    )\n",
    "\n",
    "except Exception as err:\n",
    "    print(\"Error...\",err)\n",
    "\n",
    "FahrenheitTemp = Weather.find_all(\"span\",class_=\"temp\")  #### faherenheit temperature\n",
    "print(\"Temperature\")\n",
    "print(f\"{FahrenheitTemp[0].text} F\",end=\"\\t\")\n",
    "\n",
    "####  celcius\n",
    "\n",
    "celc = int(FahrenheitTemp[0].text)\n",
    "# print(type(int(celc\n",
    "print(celc[0,1])\n",
    "\n"
   ]
  },
  {
   "cell_type": "code",
   "execution_count": null,
   "id": "b404745e",
   "metadata": {},
   "outputs": [],
   "source": [
    "c = \"90o\"\n",
    "s = c[:2]\n",
    "ian = int(s)\n",
    "print(type(ian))"
   ]
  },
  {
   "cell_type": "code",
   "execution_count": null,
   "id": "673f906d",
   "metadata": {},
   "outputs": [],
   "source": [
    "import requests\n",
    "from bs4 import BeautifulSoup\n",
    "\n",
    "url = requests.get(\"https://www.wunderground.com/weather/in/utterpradesh\")\n",
    "\n",
    "weather = BeautifulSoup(url.content,\"html.parser\")\n",
    "\n",
    "condition = weather.find(\"div\", class_=\"condition-icon small-6 medium-12 columns\")\n",
    "print(condition.text)"
   ]
  },
  {
   "cell_type": "code",
   "execution_count": null,
   "id": "82df0b80",
   "metadata": {},
   "outputs": [],
   "source": [
    "pressure = weather.find(\"span\",class_=\"test-false wu-unit wu-unit-pressure ng-star-inserted\")\n",
    "print(pressure.text[:4])"
   ]
  },
  {
   "cell_type": "code",
   "execution_count": null,
   "id": "605a5c26",
   "metadata": {},
   "outputs": [],
   "source": [
    "clouds = weather.find_all(\"div\",class_=\"small-8 columns\")\n",
    "for i in clouds:\n",
    "    print(i.text)"
   ]
  },
  {
   "cell_type": "code",
   "execution_count": null,
   "id": "892cf18b",
   "metadata": {},
   "outputs": [],
   "source": [
    "clou = weather.find(\"span\",class_=\"wx-value\")\n",
    "clou.text"
   ]
  },
  {
   "cell_type": "code",
   "execution_count": null,
   "id": "6abb55da",
   "metadata": {},
   "outputs": [],
   "source": [
    "dewpoint = weather.find(\"span\",class_=\"test-false wu-unit wu-unit-temperature ng-star-inserted\")\n",
    "print(dewpoint.text)"
   ]
  },
  {
   "cell_type": "code",
   "execution_count": null,
   "id": "0bce9dba",
   "metadata": {},
   "outputs": [],
   "source": [
    "humidity = weather.find(\"span\",class_=\"test-false wu-unit wu-unit-humidity ng-star-inserted\")\n",
    "print(humidity.text)"
   ]
  },
  {
   "cell_type": "code",
   "execution_count": null,
   "id": "0c9d55cf",
   "metadata": {},
   "outputs": [],
   "source": [
    "rainfall = weather.find(\"span\",class_=\"test-false wu-unit wu-unit-rain ng-star-inserted\")\n",
    "print(rainfall.text[:4])"
   ]
  },
  {
   "cell_type": "code",
   "execution_count": null,
   "id": "851ba7bd",
   "metadata": {},
   "outputs": [],
   "source": [
    "snowDeapth = weather.find(\"span\",class_=\"test-false wu-unit wu-unit-snow ng-star-inserted\")\n",
    "print(snowDeapth.text[:2])"
   ]
  },
  {
   "cell_type": "code",
   "execution_count": null,
   "id": "b2cbaaba",
   "metadata": {},
   "outputs": [],
   "source": [
    "d = {\n",
    "    \"he\":2,\n",
    "    \"ahs\":2\n",
    "}\n",
    "ka = list(d.keys())\n",
    "ka"
   ]
  },
  {
   "cell_type": "code",
   "execution_count": null,
   "id": "34ff7536",
   "metadata": {},
   "outputs": [],
   "source": [
    "visibiliti = weather.find(\"span\",class_=\"test-false wu-unit wu-unit-distance ng-star-inserted\")\n",
    "visibiliti.text"
   ]
  },
  {
   "cell_type": "code",
   "execution_count": null,
   "id": "cb64ab6f",
   "metadata": {},
   "outputs": [],
   "source": [
    "import requests\n",
    "from bs4 import BeautifulSoup\n",
    "import asyncio                                      ###########  librarys\n",
    "import datetime\n",
    "\n",
    "try:\n",
    "    if __name__==\"__main__\":\n",
    "        async def WeatherUrl(CityName):  ######  generating url data\n",
    "            try:\n",
    "                weatherLink = requests.get(f\"https://www.wunderground.com/weather/in/{CityName}\")\n",
    "                await asyncio.sleep(1)\n",
    "\n",
    "                global Weather\n",
    "                Weather = BeautifulSoup(weatherLink.content,\"html.parser\") ### weather variable\n",
    "            except Exception as err:\n",
    "                print(\"error...\",err)\n",
    "\n",
    "        print(\"Enter city/state\")\n",
    "        City = input(\"Enter Name::\").capitalize()\n",
    "        asyncio.run(\n",
    "            WeatherUrl(\n",
    "                CityName=City\n",
    "            )\n",
    "        )\n",
    "\n",
    "except Exception as err:\n",
    "    print(\"Error...\",err)\n",
    "\n",
    "print(\"----------Weather----------\")\n",
    "print(f\"Weather Report of {City}\")\n",
    "\n",
    "############  temperature\n",
    "\n",
    "print()\n",
    "dateTim = datetime.datetime.now()\n",
    "print(\"Current: \",dateTim.strftime(\"%y-%m-%d %H::%M\"))   ####  date and time\n",
    "print()\n",
    "\n",
    "try:\n",
    "    FahrenheitTemp = Weather.find_all(\"span\",class_=\"temp\")  #### faherenheit temperature\n",
    "    print(\"Temperature\")\n",
    "    print(f\"{FahrenheitTemp[0].text} F\",end=\"\\t\")\n",
    "\n",
    "    ####  celcius\n",
    "\n",
    "    celcString = FahrenheitTemp[0].text\n",
    "    celcstrSlice = celcString[:2]\n",
    "    FahrenheitInt = int(celcstrSlice)  ### convrt into integer\n",
    "\n",
    "    ### formula\n",
    "    celciusTemp = (FahrenheitInt-32)*5/9\n",
    "    print(f\"{int(celciusTemp)}° C\")\n",
    "    \n",
    "except Exception as error:\n",
    "    print(\"error...\",error)\n",
    "\n",
    "########## weather condition\n",
    "    \n",
    "try:\n",
    "    WeatherCondition = Weather.find(\"div\", class_=\"condition-icon small-6 medium-12 columns\")\n",
    "    print(\"Condition:\",WeatherCondition.text)\n",
    "except Exception as err:\n",
    "    print(\"error...\",err)\n",
    "\n",
    "##########  atmospharic condition\n",
    "    \n",
    "try:\n",
    "    async def Pressure():  ## pressure\n",
    "        try:\n",
    "            pressure = Weather.find(\"span\",class_=\"test-false wu-unit wu-unit-pressure ng-star-inserted\")\n",
    "            pres = (pressure.text[:4]+\" in\")\n",
    "            return pres\n",
    "        except Exception as err:\n",
    "            print(err)\n",
    "\n",
    "    async def Visibility():  ### visibility\n",
    "        try:\n",
    "            visibility = Weather.find(\"span\",class_=\"test-false wu-unit wu-unit-distance ng-star-inserted\")\n",
    "            visibal = visibility.text+\" miles\"\n",
    "            return visibal\n",
    "        except Exception as err:\n",
    "            print(err)\n",
    "    \n",
    "    async def Clouds():   ### clouds\n",
    "        try:\n",
    "            clouds = Weather.find(\"span\",class_=\"wx-value\")\n",
    "            return clouds.text\n",
    "        except Exception as err:\n",
    "            print(err)\n",
    "    \n",
    "    async def Dewpoint():   ### dew point\n",
    "        try:\n",
    "            dewpoint = Weather.find(\"span\",class_=\"test-false wu-unit wu-unit-temperature ng-star-inserted\")\n",
    "            dewP = (dewpoint.text[:3]+\" F\")\n",
    "            return dewP\n",
    "        except Exception as err:\n",
    "            print(err)\n",
    "    \n",
    "    async def Humidity():   ## humidity\n",
    "        try:\n",
    "            humidity = Weather.find(\"span\",class_=\"test-false wu-unit wu-unit-humidity ng-star-inserted\")\n",
    "            humid = (humidity.text[:3]+\"%\")\n",
    "            return humid\n",
    "        except Exception as err:\n",
    "            print(err)\n",
    "    \n",
    "    async def RainFall():   ###  rainfall \n",
    "        try:\n",
    "            rainfall = Weather.find(\"span\",class_=\"test-false wu-unit wu-unit-rain ng-star-inserted\")\n",
    "            rain = rainfall.text[:4]+\" in\"\n",
    "            return rain\n",
    "        except Exception as err:\n",
    "            print(err)\n",
    "    \n",
    "    \n",
    "    async def SnowDeapth(): ### snow deapth\n",
    "        try:\n",
    "            snowdeapth = Weather.find(\"span\",class_=\"test-false wu-unit wu-unit-snow ng-star-inserted\")\n",
    "            snow = (snowdeapth.text[:2]+\" in\")\n",
    "            return snow\n",
    "        except Exception as err:\n",
    "            print(err)\n",
    "    \n",
    "    \n",
    "except Exception as err:\n",
    "    print(\"error...\",err)\n",
    "\n",
    "Atmosphearic = {\n",
    "        \"Pressure\":asyncio.run(Pressure()),\n",
    "        \"Visibility\":asyncio.run(Visibility()),\n",
    "        \"Clouds\":asyncio.run(Clouds()),\n",
    "        \"Dew Point\":asyncio.run(Dewpoint()),\n",
    "        \"Humidity\":asyncio.run(Humidity()),\n",
    "        \"Rainfall\":asyncio.run(RainFall()),\n",
    "        \"Snow Deapth\":asyncio.run(SnowDeapth())\n",
    "    }\n",
    "\n",
    "AtmosKeys = list(Atmosphearic.keys())\n",
    "AtmosValues = list(Atmosphearic.values())\n",
    "\n",
    "print()\n",
    "print(\"----Atmosphearic Condition----\")\n",
    "\n",
    "for i,j in zip(AtmosKeys,AtmosValues):\n",
    "    print(i,\" :: \",j)"
   ]
  },
  {
   "cell_type": "code",
   "execution_count": null,
   "id": "7b132a18",
   "metadata": {},
   "outputs": [],
   "source": [
    "#####  sun set and rise\n",
    "\n",
    "import requests\n",
    "from bs4 import BeautifulSoup\n",
    "\n",
    "url = requests.get(\"https://www.wunderground.com/hourly/in/indore\")\n",
    "SunMoon = BeautifulSoup(url.content,\"html.parser\")\n",
    "\n",
    "sunrise = SunMoon.find(\"span\",class_=\"astro-data sunrise-icon\")\n",
    "print(sunrise.text,\"AM\")"
   ]
  },
  {
   "cell_type": "code",
   "execution_count": null,
   "id": "c66d5315",
   "metadata": {},
   "outputs": [],
   "source": [
    "sunset = SunMoon.find(\"span\",class_=\"astro-data sunset-icon\")\n",
    "print(sunset.text,\"PM\")"
   ]
  },
  {
   "cell_type": "code",
   "execution_count": null,
   "id": "b9d2e753",
   "metadata": {},
   "outputs": [],
   "source": [
    "moonrise = SunMoon.find(\"span\",class_=\"astro-data moonrise-icon\")\n",
    "print(moonrise.text,\"PM\")"
   ]
  },
  {
   "cell_type": "code",
   "execution_count": null,
   "id": "c76ff2a1",
   "metadata": {},
   "outputs": [],
   "source": [
    "moonset = SunMoon.find(\"span\",class_=\"astro-data moonset-icon\")\n",
    "print(moonset.text,\"AM\")"
   ]
  },
  {
   "cell_type": "code",
   "execution_count": null,
   "id": "b0080482",
   "metadata": {},
   "outputs": [],
   "source": []
  }
 ],
 "metadata": {
  "kernelspec": {
   "display_name": "Python 3 (ipykernel)",
   "language": "python",
   "name": "python3"
  },
  "language_info": {
   "codemirror_mode": {
    "name": "ipython",
    "version": 3
   },
   "file_extension": ".py",
   "mimetype": "text/x-python",
   "name": "python",
   "nbconvert_exporter": "python",
   "pygments_lexer": "ipython3",
   "version": "3.11.5"
  }
 },
 "nbformat": 4,
 "nbformat_minor": 5
}
